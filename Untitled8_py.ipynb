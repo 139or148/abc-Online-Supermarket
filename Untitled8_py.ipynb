{
  "nbformat": 4,
  "nbformat_minor": 0,
  "metadata": {
    "colab": {
      "name": "Untitled8.py",
      "provenance": [],
      "authorship_tag": "ABX9TyPbbYlG/WEEVIPrIQyNIYuH",
      "include_colab_link": true
    },
    "kernelspec": {
      "name": "python3",
      "display_name": "Python 3"
    },
    "language_info": {
      "name": "python"
    }
  },
  "cells": [
    {
      "cell_type": "markdown",
      "metadata": {
        "id": "view-in-github",
        "colab_type": "text"
      },
      "source": [
        "<a href=\"https://colab.research.google.com/github/139or148/abc-Online-Supermarket/blob/abc-Online-Supermarket/Untitled8_py.ipynb\" target=\"_parent\"><img src=\"https://colab.research.google.com/assets/colab-badge.svg\" alt=\"Open In Colab\"/></a>"
      ]
    },
    {
      "cell_type": "code",
      "metadata": {
        "colab": {
          "base_uri": "https://localhost:8080/"
        },
        "id": "-NeM6TgGGoU0",
        "outputId": "0163e78a-409a-48b2-b70a-c8e0e6482c6f"
      },
      "source": [
        "!git clone https://github.com/139or148/abc-Online-Supermarket.git"
      ],
      "execution_count": 1,
      "outputs": [
        {
          "output_type": "stream",
          "text": [
            "Cloning into 'abc-Online-Supermarket'...\n",
            "remote: Enumerating objects: 142, done.\u001b[K\n",
            "remote: Counting objects: 100% (142/142), done.\u001b[K\n",
            "remote: Compressing objects: 100% (142/142), done.\u001b[K\n",
            "remote: Total 853 (delta 81), reused 0 (delta 0), pack-reused 711\u001b[K\n",
            "Receiving objects: 100% (853/853), 17.72 MiB | 29.36 MiB/s, done.\n",
            "Resolving deltas: 100% (434/434), done.\n"
          ],
          "name": "stdout"
        }
      ]
    }
  ]
}